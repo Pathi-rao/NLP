{
  "nbformat": 4,
  "nbformat_minor": 0,
  "metadata": {
    "colab": {
      "provenance": []
    },
    "kernelspec": {
      "name": "python3",
      "display_name": "Python 3"
    },
    "language_info": {
      "name": "python"
    }
  },
  "cells": [
    {
      "cell_type": "markdown",
      "source": [
        "All this preprocessing needs to be done in exactly the same way as when the model was pretrained, so we first need to download that information from the Model Hub. To do this, we use the AutoTokenizer class and its from_pretrained() method. Using the checkpoint name of our model, it will automatically fetch the data associated with the model’s tokenizer and cache it (so it’s only downloaded the first time you run the code below).\n",
        "\n",
        "Since the default checkpoint of the sentiment-analysis pipeline is distilbert-base-uncased-finetuned-sst-2-english (you can see its model card here), we run the following:"
      ],
      "metadata": {
        "id": "tUNDIXrHiFwT"
      }
    },
    {
      "cell_type": "code",
      "execution_count": null,
      "metadata": {
        "id": "0rxN6ey11Ex7"
      },
      "outputs": [],
      "source": [
        "from transformers import AutoTokenizer\n",
        "\n",
        "checkpoint = \"distilbert-base-uncased-finetuned-sst-2-english\"\n",
        "tokenizer = AutoTokenizer.from_pretrained(checkpoint)\n",
        "\n",
        "# models expect tensors as input. \n",
        "raw_inputs = [\n",
        "    \"I've been waiting for a HuggingFace course my whole life.\",\n",
        "    \"I hate this so much!\",\n",
        "]\n",
        "inputs = tokenizer(raw_inputs, padding=True, truncation=True, return_tensors=\"pt\")\n",
        "print(inputs)\n",
        "\n",
        "\"\"\" >>> The output itself is a dictionary containing two keys, input_ids and attention_mask.\n",
        "        input_ids contains two rows of integers (one for each sentence) that are the unique \n",
        "        identifiers of the tokens in each sentence. We’ll explain what the attention_mask is \n",
        "        later in this chapter. \"\"\""
      ]
    },
    {
      "cell_type": "markdown",
      "source": [],
      "metadata": {
        "id": "ap6GOSNui7lV"
      }
    },
    {
      "cell_type": "markdown",
      "source": [
        "For each model input, we’ll retrieve a high-dimensional vector representing the contextual understanding of that input by the Transformer model."
      ],
      "metadata": {
        "id": "4j9zPiQxj7Pz"
      }
    },
    {
      "cell_type": "markdown",
      "source": [
        "![image.png](data:image/png;base64,iVBORw0KGgoAAAANSUhEUgAAA34AAAFrCAYAAACOrVsVAAAgAElEQVR4nO3dS2xb96Hn8Z9EUdTDejh+JLEdksZM2tR30hiYm3GKWhXVmYWDbIqbnW1A0kpIFi3uJshNFyoXdozsksUtvJIE2N6lQBdBsqqpyp0m43ncNHMzuc10Qiq24/gpiRIpiqQ1iz/PMSnJth4kz+Gf3w8gWKJ4Dv8y+T/n/zv/x2lZXV1dFQAAAADAWq1eFwAAAAAAUFsEPwAAAACwHMEPAAAAACxH8AMAAAAAyxH8AAAAAMByBD8AAAAAsBzBDwAAAAAsR/AD4EvJZHLd104lEgmNjo5WZV9+MTk56XURAABAAyD4AfCtqakpDQ0NaWpqSolEoir7m5iYUDQarULpdm50dHRH2yeTSU1PT1epNAAAwGZtXhcAADYSjUY1Pj6uZDKp4eFhRaNRTU5OKhqNanp6WpFIRNPT0+7zEomEG4TKH5uamlI0GtXw8LC7/fj4uOLxuBKJhIaHhzUyMuL2nKVSKUUiEUkmKDplSKVSGh8flyTF43Elk0mNj4+75XLKHIvF3OdEIpF120nS8PCwksmkEomE4vG4BgcHJUmxWEzxeNwtezQaVTKZ1NTUlCRpYmKiYj/Ods5jzv8TAADAWvT4AWgYTu/W+Pi4RkZG3CDkhL5UKqWJiQl3KKfTw+cEtFgs5oa+SCSiiYkJd5/lgdH5fmJiQqOjoxoZGXFfZ3JyUpFIROPj424gc57jhD4n1K3dbnBwUMPDw5qamlIsFnNfzzE5OemWPR6PKxqNanR0VBMTExoeHnYDZyKRcP8m57mDg4OEPgAA8Ej0+AFoKE64SSQSmp6eViKRcHvonH8luT1yTu9YecByflf+c/m+ne+dr/J9O6HQCX2S3MBXbu1j09PTSqVSGw7NdAKe0zNZ3tvn7Kf8NcvLmUgkFIvFKnr/AAAA1iL4AWhI8Xhcly9ffuxznIC3dkGXwcFBd2hkIpFwew43Y3BwsGL45la2k+T2ApYrD5nRaFRDQ0Pu/p2FbZwwuNG2zt+4UQAFAACQpMBvfvOb33hdCAB4lLm5OUWjUfX391d8L0m///3vJUlHjx5Vf3+/+vv7FY1G3ef9y7/8i95//31Fo1H94he/UCqVUiwW09GjRzU9Pa3PP/9cv/rVryq22eh1jh496j4Wi8WUTCb1j//4j+7vyv91yuyUJZlM6ujRo4rFYm555ubm3Of//ve/VywWcx87evSo5ufn9Ytf/MJ9vXg8rpaWFo2Pj2tubq6iTP39/W7gc/4PAAAA1mpZXV1d9boQAAAAAIDaYXEXAAAAALAcwQ8AAAAALEfwAwAAAADLEfwAAAAAwHIEPwDYgnQ6rXQ67XUxAAAAtoTgBwBbkE6ntbCw4HUxAAAAtoTgBwAAAACWI/gBAAAAgOUIfgAAAABgOYIfAAAAAFiO4AcAAAAAliP4AQAAAIDlCH4AAAAAYDmCHwAAAABYrmV1dXXV60IAXvjqq6+UTqeVTqfV09PjdXEAWCydTuvll1/mWAMA8AzBD00nnU7r6tWr+uEPf6iDBw96XRwATSCdTuv69etuAAQAoN4Ifmg6f/jDH/Tzn//c62IAaEJOAHzhhRe8LgoAoMkwxw9N5erVq4Q+AJ5xhnqm02mPSwIAaDYEPzQV5tcA8NrBgwf11VdfeV0MAECTIfihaXz11VfM6QPguZ6eHnr8AAB1R/BD07hx4wY9fgB84cCBA14XAQDQZAh+aBqEPgB+Qq8fAKCeCH4AAAAAYDmCHwAAAABYjuAHAAAAAJZr87oAMPIFr0vweEELPilVn+NXzFV3fwD8LRCq2q56e3urti8vce7yuULW6xLUT1un1yXwFHURm9Gyurq66nUhmk2+IN2fl7LLUjYntQW8LtGTFYqmnME2qT0o9fVIXc1yjC3mpOxNaWVeWpWUT0uBdq9LBcBLrSGpLSS175Y693tdmrrIF6S5eSlTOndJ/j9/lZ+7gm1Sd5c5f1lp8VupkJaW75nzVRUvVDSEYu7h3xx6Smrrlvp/6G2ZaiRfkOYWpEzWfO98zv2sqeqijxH86sQ5Yd6dNx/8vk4pEJA6gl6XbPMKRanwQCo+kJZy5ue+HmnfU16XrAaKOSlzU1q+ZX4O9UvBLqm1XQo00JsGoPqKeenBivk3Nyc9yEvtvVJ7v9T5tNelq7rbd6X5RfN9d0gKBRvv3CVJuby0tFI6d+2S+vss6IUoZKX0N+Yr0C517ZVag+Z81YyKefPvg7yUS0v5JSm0W+o/YkWP4Nq62BE09bFRFIqSWqTcioV1sUEQ/OpgKSt9+53U12Uqqt+vymxWoSgtLEvLK1LkgBRsoIPPY6VT0tI1qWu/CXwEPQCPU8ybBmZuXlKL6WWwoLclX5BufC8FWqTeTrvOXUsr0tKy9Ox+qbtR88DybenWfyudq3o5V22kmDf1spCTOvZK/T/yukTbspKXvrslBVql3g6L6uIDKZOTFpelvU9J/fQA1hzBr8acqzNP7WqsK6RbMZ8xPYAN3/tXXJbm/irpgdRz0Fw1BYDNepCXlu+bhmbHPqkn6nWJtm0xI127Ke3vs/fcVXgg3Vs00xb27/G6NFs096W0dF3a9Wzz9u5tRTEvLd404W/333ldmi1Zykjf3pT27JK6O7wuTW0UitK9JXMRZl+j1cUGQ/CrodR1aXVV2m/HHP7HKjyQbs03cPjLfC8tzUq7DkjBbq9LA6CROb0MuTlp3997XZotm1uQ7tw3oa/N8rW/Cw+khazUGpAONMpUze//JD0oSH3PeV2SxlLMS7kF83XwP3tdmk1ZzEg3b9vdeeAoFKVsXiquSgfsGzHvG5Yf0r0zt9A8oU8yjYP9vebK1FKjLSKWvWlC3+7nCX0Adi4QNHOtQv3S7f/udWm2ZCljQt+B3faHPsn8jb0d0sqKdPue16XZhLn/Q+jbrkBQ6tojdfRJd/6H16V5oqVsqde91/7QJ5nhq53tZlhrQ9TFBtUEh/X6y2Slm3ekp5osQ7QFzDyQ7255XZItyNw0K6Htft7rkgCwTddeKdTXUOHvu1LvQjNpC5jz9XzanL99a/mOGd5J6NuZ9h4pv2hCtI99d6vU627JfL7NaGttkLrYwAh+NXD7XvNVVkdHUNrVYRYE8L2VOWmJ0Aeghrr2NUz4S103x+9m6F1Yy1lt+8Ztr0vyGHc/l3Y943UpGl8gaP4fl65Ly3e9Ls2Gbnz/cNXOZtMWMBeffF0XGxjBr8rm0mbVpWasrI6ukLnPk+/Nf23m9AFALXXtM4tFZW56XZLHyubMqI1m1d1hehx82dOwOGsWcWEhl+oIBM0FmWV/DlFaWDIrwTerjqCpiw03dagBEPyqLJORQk3Y01eurRR8b/vzQpox/29SWxdz+gDUR88BM8KgmPO6JBuam7d3xcCt6G6X7i94XYoNLM5KbbxBVRXqNb1+PjM3b3rem113u3SHuX5Vx+0Sq2xhSQrv9boU3uvtlG4t+HRZ3pV5aWWhdkM8izmpsOzbBp7nnPubhfq8LcdGnPeM9w+S+ay2dVTnnnytQbPYy2JK6vvBzvdXZXfmmmcxsscJtUvz816XYgMr81IvI1SqKhA09XL5rtThn8bKnbnmm2e7kVBQms+a+4lyc/fq4b+yiubSXKVxOPMbfVlhF1NS577q7a+YM0O4cvPSSloKtJuTCfcBfLQHpRteB9rNe9H9rHc3vC4uS0s3pcXrpjySGU7FjW7wIG++HD1hqWsH64x39EvpG6YR3+6fCx/5gvm3Geelr9XWav4fMllzfz9fWPxW6mjE+yQ1gGCHGe7po+BXKDb3dCFHW8DUx5W8D9uRDYz/ympaNfP7YLS1Snk/VtiVtNQb3vl+ijlp6TsTGLr2SZ1PSb2Hdr7fZlLMm3ud3fmLCX49kfr1BObmpLmvzfehXmnvj+rzumg8xbyUz5hVFdOzUud+qTey9f20Bs1Fhdycr4JfJktDs1yoTVopSL6ZYlVYklppXNREsFta9s94wswydbFcKGiOT91+uQhjAb81yRtaZlkKcmx2+fLqceZ7KbR75/vJzUl3/9UEPgLD9gWCpVUP+6VCRlpImuDXG63t6y4kpextqXOvuacT8DiBoBTok9T38CbQ31+V9ry49XlXoX7z+evZRnCsETq318vnn/ycuilkpNZ2r0thp9aguemyT+TzdCCUawv46u2xAh+vauLDWSHQ6sPVPZe/3/mqaAtJ01PUFzH36cLOOSus7XrGNHLu/KU2r1PMmX3n5qTd/47Qh61zbgId6pXufmF6ALe6fWu7Ge7pE4UCjc1yoeDD4a++UFw2nxvURtE/DZV8wacXzT3S1mpWG0b1cKivonxRClBh/W0lbebZbNdC6mFoYFnt6gsEpc49UltnbcLf/X8zPTR9VRjqi+bWtc8MGc98L+Xub23bYJevgh8XLdG0CNRoMgQ/NI9i7uHiHduRm5MWr0m7nq1embCe06PS2mZ6V6vlzl+k1gC9tKieQNCEv7n/u7VVYH02vAwA0BwIfmgexeWdrbTpDO/kCmF9dO4x8/ByczvfV25OWn1AaEf1BYLmYsJWeqgDQSnvox4/AEBTIPiheRRz2w9+9/9q5qAxvLN+3N6Ur3e+r7v/Sk8faifUZ1YHzNzc3PNb2xleCQCoO4Ifmst2e+uyt/15w3HbOTfY3UmvX+ammddJaEcthXql9Lebf/4DViwAANQXwQ/No7gsqWXr22W+N0uwM8TTG117t75yYrnMLUI7ai/YZeYQ5xjCCQDwJ4If8CSZ71n230utQTNMdztLbhdz5ovePtRDe685XgAA4EMEP+BJCA7ecoZ7FrYxNC43x3uH+gl2+eqeYAAAlCP4AU9SXPG6BNhug7qwbG4LAdTLVm7rAABAHRH8gMfJzZvV+uCxVRPitqqYMysoAvXAPGAAgI8R/IAn2clN31Edre3bWwWxmKMxjvqj1w8A4EMEPwAAAACwHMEPAAAAACxH8AMAAAAAyxH8AAAAAMByBD8AAAAAsBzBDwAAAAAsR/ADAAAAAMsR/AAAAADAcgQ/AAAAALAcwQ8AAAAALEfwAwAAAADLEfwAAAAAwHIEPwAAAACwHMEPAAAAACxH8AMAAAAAyxH8AAAAAMByBD8AAAAAsBzBDwAAAAAsR/ADAAAAAMsR/AAAAADAcgQ/AAAAALAcwQ8AAAAALEfwAwAAAADLEfwAAAAAwHIEPwAAAACwHMEPAAAAACxH8AMAAAAAyxH8AAAAAMByBD8AAAAAsBzBDwAAAAAsR/ADAAAAAMsR/AAAAADAcgQ/AAAAALAcwQ8AAAAALEfwAwAAAADLEfwAAAAAwHIEPwAAAACwHMEPAAAAACxH8AMAAAAAyxH8AAAAAMByBD8AAAAAsBzBDwAAAAAsR/ADAAAAAMsR/AAAAADAcgQ/AAAAALAcwQ8AAAAALEfwAwAAAADLEfwAAAAAwHIEPwAAAACwHMEPAAAAACxH8AMAAAAAyxH8AAAAAMByBD8AAAAAsBzBDwAAAAAsR/ADAAAAAMsR/AAAAADAcgQ/AAAAALAcwQ8AAAAALEfwAwAAAADLEfwAAAAAwHIEPwAAAACwHMEPAAAAACxH8AMAAAAAyxH8AAAAAMByBD8AAAAAsBzBDwAAAAAsR/ADAAAAAMsR/AAAAADAcgQ/AAAAALAcwQ8AAAAALEfwAwAAAADLEfwAAAAAwHIEPwAAAACwHMEPAAAAACxH8AMAAAAAyxH8AAAAAMByBD8AAAAAsBzBDwAAAAAsR/ADAAAAAMsR/AAAAADAcgQ/AAAAALAcwQ8AAAAALEfwAwAAAADLEfwAAAAAwHIEPwAAAACwHMEPAAAAACxH8AMAAAAAyxH8AAAAAMByBD8AAAAAsBzBDwAAAAAsR/ADAAAAAMsR/AAAAADAcgQ/AAAAALAcwQ8AAAAALEfwAwAAAADLEfwAAAAAwHIEPwAAAACwHMGvSZw9F1dqNvnI36dmkzp7Ll7HEgEAmsmFi5OPfHzmSmLd45yXAP+YuZLYsJ6We1JbE94j+PlYajap7r6WikrkPPakyrfWH2cSmn1CZXzUSRkAgCc58dpQxbkpNZvUideG3O9nv01tuN2FS1MbPj47m9QfZ7Z2rgNQ6ciLh9ddQNnosSeZuTKtVIp2ZKMj+PlcJBytqJwXH3GCfJxHXX3hqgwAoB4i4ajeeXu84rEnjULZyuMAHq08kM1cSWxYj7ZT56iPjYfg53PhcFQzMw8r6R9nEjp9asT9fWo2qSMvHtaJ14Y09uZoRSV0Hjt7Ll7R2zdzJaEjLx7W2BujGntztH5/DACgKZX3/knS2JujerV0jtro/HT2XFxjb1Sen5xtTrw25DZkz56L6+y5uHseZGgoUCkcjmpgIOb2xl+4NFXRjpRMe/HV14bW9QSePRd362l5eHRGn509F9eJ14YIgA2E4NcATp8accPfzwZiFb8be2NU77w9rk8+uqyBnw66J8qz5+KKRKI6/88TOv/PEwqHoxXbfPnFN/rko8uSuGIDAKiOM++ahqDTkNzIhYuTSqWS+vKLbzY8P53/rTlvnf/tRMU2ksw2v52oGB6amk0+fJyhZkCF2dmkTp8cduvMzExCAz8ddH8/9uaoTp8c1pdffKOPP7rs1qGZKwn9cSbh1tPysDj2xqg++eiyzv/zhH79T+PbGo0GbxD8GsCpk8Oa+dO0Ll6a0sDxh5U1NZs0FbpUGU+fGtHsbFKp0ryI0yeH1+3LCXljb5revlQqqRnmUAAAquDX/2QuRH7y0WV9XLq4uNbMn6Y3PD85Bo7H1j0286dpSdpwFIvTiI2Eo1zIBDbg1KkLFyfX9fbNzCQ0UOpUiISjZqTZlYRmrkyv62xwt7mS0IVLUxp7c1Rn3o0zF7eBtHldADxZxBnuWZoj4Vy1iZSukqZmkxUnvEg4qkgkqlQqqYHjlfuanU0qHDY9geU4WQIA6iESjm640MvjzkORcFTh5yLrGq0ANsdZM+Ljjy5XXPAPh6OaLbUjpYftxIHjpgd/7dxcZ19r25FoDPT4NYh33h7f8Arp6VMjunhpyl322hky43Trp2aTFUtlDxyPabb0WGo26U7yjZQNtYF/JWY+UzJ1rSbbT174cNv7BYDNGjg+6J6Xys9PTm+DsyR8+XDOgeODOnsu/nCeEkM6rZBMXVNi5jOvi9EUTp0c1sBAbF177/TJYZ15N15x+xSnLs6WtRPL69zpUyNuPXW+JFUM24Y/Efx8LBKOut3sp0+NuFc6B3466FYu50qMM7fPmbc3cDymX//TuMbeGNXMn6Yr5lF8/NFlzX6b0tgbo7pwaco9CJRP/rXBp59+qrt373pdjAqJmc80dOJkxddWTF34cEcnyfiZ95Wcvb5huaZKwS9+9gONjr217deAf8TPfkCjCutcu3ZNX3/9ddX3+7OB2LqGX/kFS+f7geMxvfP2uM68G9fst6mK85Mzr2/sjVEN/HSwYhtnbl/5IjHh5yKKRB6+pg09gl9//XVN3p+dWHtOqNaxZeri7zTdxMeobDarzz//vKav4dSJ8l66SCTqTh06fWpEp08Ou+3IL7/4xn3+xx9d1oVLU7p4aUrnfzvh1rVTpXo59kbl0OufDcSY7+dzLaurq6teF8IWqRtST0jqCHpdEn+Yz0jBkLR3tzevn81m9ec//1kvvfSS9uzZIy3OSg9yUte+ze8kNy8tXZd2PVOVMk1e+FBTFz7UxPn33MeikUOb3n507C0NDhzTyOnXt/X6QydOavzXv1Js4FjF44mZzxQ/874uf3JpW/utueV56UFe6v/B1ra784XUuVsKdtWmXD63088LtuH+36S9P5YCoUc/p5iXFpLSvpfrV64yTmNzz549ev7553XnnpRfkfqas5qss5yXlovSgf3evP7a90ff/1epo9ez41gydU2jY29VnB+qdWyJn/1AkjT+zi93tJ8duf//pIP/xZOXzmazunbtmjKZjF566SXduS/lc9RFRy4vLeSkyAGvS2IPevxgrc7OTv3kJz/R559/7quev2jkUMWXZE6skxc+VPzsBzp8ZNC9mjp04qR7YnSkZq9rdOwtjY69VXHF1Xn+6NhbFcM5Jy98+PDxst6+ZOraw9c7837FfpzXnLzwYUW5yoeDJmY+0+jYW27PpbNN/OwH7s87GZaK2nHeo/LPytor+Gt/t/az6Hz+hk6cdD+/zueB993fOjs79dJLL+nu3bu+61lCY74/Gx0jNjrOSJUjX5r9WNHZ2alDhw6pq6ur5j1/gMTiLqix27eu6S//66+elsG5evrz//TvPS2HozxYDQ4cU2zgmJKz1xU/+4FGTr+uyx9f1NCrp5RMXdPE+ffcK6tOL53zuBO8vvlyWsnUNQ2dOKlvvjQr3zlXZ53Xcp6TLBuuMzr2loZLrzd18XdK/PFTd//OyTg1e12TFz7U5Y8vavjUP2jo1VPuFd6hEye1uvQ3t7dw/J1favLCh0qmrunyJ5eUTF3bUm8m6icSPui+R0OvntI3X04rEj6o6ZnP3M/ZZKlnenTsLUUjhzRx/j03HMYGjrnzRSfOv6do5JDipf3wvm/eH/7wB09fP5vN6u7du/rR3z2lzo49npbFbxbTd/WH/+1tQzybzSqTyejQ8+3q7PC0KO45yv05dU2DpWOFMwx04vx75lxSOkZsdJyRzLnj8ieXFA0fXHdh0yt+qIuS1N6xR/19HD9ROwQ/1FRv3x5Fwz/x7PUzmYw+/fRTvfTSS5KWPCtHuWj4oCLhg+73jtjAsYrhLuPv/FLRyCHFfvZKRYPcOdnGBo4pGj7oNsBHTr/u9tgkZ6+78/acfa5tjCdmPnOH7gwOHHOD31ojp1+v2DaZuqbk7HW3PLGBYxot9SRGI4cUP/uBJi98yPBCH3M+K9Olz04ydU2xgWMaevWUG+B/8+tfSXoYABMznykaOaSpCx+6770T+pKpa24jbvjUP3j5pzWMbO6BfvIT746NkvTXv/5V2WxWvb17lF/xtCi+097e5fn78/nnn6uzs1Od7f44d0XKzlflEjOfafydX7rnn/iZ9xX75NKGx5nEzGcaOf26ewzxw0WibF6ev9dOXdy3/5DyOU+LAssR/FBToVCnOju9ee1sNqtPP/1Ur7zySmmOnz9OntHIoS2Fokj4oFIbLMjiSKauKTV7veIK7Pg7v1Rs4JjiZ97X8AavtdNemWj4oKKRQ+4QHidcxgaOuT2Ih48Muld44S9DJ04q9rNXNDhwzP0cRCOH3J686VJDbu0wrEj4oPsZK+f0CDq90MOnXyf4P0FnqFWeHRxlQkU2m9Urr7yiO/c8K4ZvtXt47pLM4mTOkE99/1+9K0hJNHywok6XL8hSfpyIhA9qvHTRyDnODJ/6h4ppAn4Ie+U6g/JPXbzvWTHQJAh+sNaf//znh6HPIk4IdK6eTpx/T8nSkEznxOyciMd//Su3h8bpqZNK8wxLvYXO77bC6eVxenwcTqB0QkOirKcS/uBcld8o2A2ffl1TpeG6zvvqvH9PCnLRyCGNlLaZLl3Vhz9du3bNbWjCf5yePjNSxf82OkY86jhTPrJAkhJ//FSxnzXv55C6iHoj+DUA594q3Cxza37+8597XYQNJWY+0+Ejg+7Plz++uKXtnfl8ydnrZp5EaZGYkdOv6/CRQTfIOXMoopFDFa/nGP/1rxQ/875GZ69vuZHunMiduR1O2Ju6+DtNXvjQHcJK6PNe/OwH7jyaaPigG9adxVnWDjde20vszPNz9nH544sbDhuOn3lf0cgh92IE/OvQoUM6dMhfvS54qFECn2PtMWLi/HvrRoU4x5nyc5VUOd2hGVEXUW/czqGKanU7h9RsUrOzSQ0cj1V3x5JOvDbk3vuv2ry+ncM6PridQ7U8aqhmvRbWcIYDOvO54mc/cMNfTXA7h7o5fGRww3DHoi2b1AC3c1irXrdzuHBxUrPfptz7zz7KkRcPu/cS84LXt3NYx+PbOWzWVo4RvjqeeHg7h7W8vp3D2Jujeuft8XU3ed+KatZfbudQfdzOocGkZpNKzSY1cyWhs+fiSpVumln+uwsXJysen7mSqPj5wsVJ9/GZKwlduDhp1Y3bm8GjTpj1PJGWDx0tn1+IxuTcq2vtYj4O3zTS0DCc0SrO+WXmT9PuOar8987PktzzV/l5ae1+1m5bfn6Dd7ZyjOB4Uh+PqjvlP1e0CWcSunhpyn3MqV9r9/GodmX5v7Qr/Yng1wBmZ5M6825ckjQzk9Crrw3pwqUphZ+L6NXXhtznvfrakMbeGJUkjb0xqrPnSttcmdbFS1Pu88beHHW/38lVHTSv2MAxDQ4c0/TMZ5q6+DtNnH+PYZ0NLjl7XcOnX/f2RsqwxoWLkxp7Y1QDxweVSiXdRmIq9bCx6JyjJNNLsFY4HFVqNume52auTLvblG87M0MDE1hr5oppL4afi+jMu/GHbcKZhC6UtQnLOxHCpTZhJBJ1fzf2xqjCz0U09sbow2B3aaqi3pXXx7X7gr8wx68BDQzE3Pl+ToV1ApwzbDMSierMu/HHDqlxho6ePjVS4xLDRizeYReCO6otEolq4HhMA8fNzwM/HVQkHHXPOc55LDWblEo9CqdPjWjszVH3Oc7Qs9OnRtwQ+M7b40qlkhX7AlBp7I1RffzRZUXCUQ0MxNy68yimTRjXqZPDbpsyNZt0h2067crH1bm19Rf+Q49fgwuHo5rdYJjLwPEY3ewAAE8MDMQUCUd14rWhit6AchcuTurIi4d18dLUI3sHUikzzOxEaUSL87zzvzWh8ciLhx+5f6CZlXcKlAe57XpUexONheBnqfIKH34u8tjKzvwIAEA1RcJRvfP2uM7/dkJ/nElseCFy7M1RffnFN4/thfjZQEynT43ok48uu1/l+//4o8sVcwQBGGs7AJx2YSQSrRhyvdajwt3MTEIDA2akWCQc1ey3KXe/aBwM9bTM2XNxhZ+LmNs/lERvX5MAABCDSURBVK6IRiJRnT0XXzcsVDJXZc+ei+v0yeGarBoKAGg+a3vhwuGowuGoO+fI6RF0Vvosb2wOHDfnpYHjgzp1ctiduy6ZC5mnT43oyIuH9c7b45r9NuU2RgE8dLpUdwYGYpqZSbhDq52eu7ULBErmQsuFS1NKpZIVw60j4ajOvPsb98LLwPFBt16u3Ud5/aVd6T/czqGKank7B8lcYSn/XjKTd52KdeTFw/r4o8vuVZnygDdzJeFW5PJtnN9JqnoF5XYOqBpu54BGwe0cJJVWDiwt/lB+PnIed+bsre1FKH+Os135vpzG6EaPVQu3c2gyFt/OYW1dWvu4Uw/X1j1nfm53X4u+/OKbbe1j7fO3g9s5VB/Br4pqFfw2y+t7H61F8EPVEPzQKAh+DY/g12QsDn471d3XoqV572ICwa/6mONnEZbOBQAAQDUwVNM+BD+LOGOvAQAAgJ2gXWkfgh8AAAAAWI7gBwAAAACWI/gBAAAAgOUIfgAAAABgOYIfAAAAAFiO4AcAAAAAliP4AQAAAIDlCH4AAAAAYDmCHwAAAABYjuAHAAAAAJYj+AEAAACA5Qh+AAAAAGA5gh8AAAAAWI7gBwAAAACWI/gBAAAAgOUIfgAAAABgOYIfAAAAAFiO4AcAAAAAliP4AQAAAIDlCH4AAAAAYDmCHwAAAABYjuAHAAAAAJYj+AEAAACA5Qh+AAAAAGA5gh8AAAAAWI7gBwAAAACWI/gBAAAAgOUIfgAAAABgOYIfAAAAAFiO4AcAAAAAliP4AQAAAIDlCH4AAAAAYDmCHwAAAABYjuAHAAAAAJYj+AEAAACA5Qh+AAAAAGA5gh8AAAAAWI7gBwAAAACWI/gBAAAAgOUIfgAAAABgOYIfAAAAAFiO4AcAAAAAliP4AQAAAIDlCH4AAAAAYDmCHwAAAABYjuAHAAAAAJYj+AEAAACA5Qh+AAAAAGA5gh8AAAAAWI7gBwAAAACWI/gBAAAAgOUIfgAAAABgOYIfAAAAAFiO4AcAAAAAliP4AQAAAIDlCH4AAAAAYDmCHwAAAABYjuAHAAAAAJYj+AEAAACA5Qh+AAAAAGA5gh8AAAAAWI7gBwAAAACWI/gBAAAAgOUIfgAAAABgOYIfAAAAAFiO4AcAAAAAliP4AQAAAIDlCH4AAAAAYDmCHwAAAABYjuAHAAAAAJYj+AEAAACA5Qh+AAAAAGA5gh8AAAAAWI7gBwAAAACWI/gBAAAAgOUIfgAAAABgOYIfAAAAAFiO4AcAAAAAliP4AQAAAIDlCH4AAAAAYDmCHwAAAABYjuAHAAAAAJYj+AEAAACA5Qh+AAAAAGA5gh8AAAAAWI7gBwAAAACWI/gBAAAAgOUIfgAAAABgOYIfAAAAAFiO4AcAAAAAliP4AQAAAIDlCH4AAAAAYDmCHwAAAABYjuAHPElxxesSAAAAADtC8APQGFa3sU0gVPViAAAANCKCH/A4bR3Sg7zXpUB+SQr1bX27tpDZFqiX4goXHAAAvkTwAx4nEGKopx+0tEhq2fp2gY7tbQdsRzEvBdq9LgUAABsi+AFP0t4j5TNel6K55TNSqHfr2wU6eO9QP4WM1L6NnmkAAOqA4Ac8Sdd+KTfvdSma1/K86XkNdGx921Cf1NJK+EN9LM+b4wUAAD5E8AOeJLSb4OClfGZnjemufQR31F4xX5qL2u91SQAA2BDBD80j0CE92MZ8Pae3KXOn+mXC4xXzUm5O6npm+/sIPUVwR+1l7ki7Dm7++a0sAAMAqC+CH5pHIGSCxHbs/oHpNSJA1Nfid9KeIzvbRyBkegzT31WnTMBa+YyZ39cb3eTzl8yKswAA1BHBD80jsINbMwRCUs9zJoigPrJ3zfy80O6d76vrGWm1KGVu73xfQLliXppPSf3Pe10SAAAei+AHbFbXM1LnPmnxptclsV8hIy3PSXt/XJ39BULS7h9KhWWzAAdQDcW8uRi06+DW5vY9WJECnbUrFwAAGyD4oXkEQmZezU5u6N39rNTWJd3/2/aHjeLxMnfMsMz+H1R3v4GQ1P9DaSXNfE3sXDEvLcyawLfZIZ6OfJbbPvhYseh1CQA4gm1el8AuBL8qCrZxwihXKPqwwob6TE/SdgVCppHXtd80+hg6WD3FvDQ/a3rlnn7ZvFfV1tZhev5a281rEd6xHbl5U//7n9966JOk/KKvgl8w6HUJ/KfF6wKU286tbLA5xbz89G4H20zbCUbhgdclsI/fmuUNLRiQCrQjXcVVHwa/zmek7F92vp+eiNnX3L+Z3r9Qr7ltALZueV4qZE1PbNd+839bS054X0iZxnuw27x/wa7avi4aWzFvAl/mtvkM7f2x+XerlufMkHEfCbZJOc5druWC1LPL61KUaeuU8gsco2ohn/HVLViCQdN2glEocmGq2vzWLG9o3V3Svftel8I/fFlhy4d7Brt3tq+2UuOvmJOWvjMBsDUoBYLS6qr5Fxt7UHh43zNn4Zyndrh651b1RqTuZ6TcfSlzy8zVag1KrW28d3gonzX/PsibwPb0328v8Dly81LPNnoJaygY5Mp6uZYW8+UbwV3SCo2L2vHPm02PX6XiA6mr3etS2IXgV0XBoLTMVVOXL4d6SlJPWJr/WtpdpVX4nB6k7mfNz7nSUNJiTuLK3XotktpL90asxXDOrQiEzKI9Xc+Y96uwLBWXze8KOW/LBh9YlfqeMfW4Gp/V5TlJLb4a5lmuUJTaAl6XwnvLK9LTflp7J7TXjC5B9RWWpa4t3H+zxpw203Je6uD6o5bzPquLFvBjs7xhBdvMFxVWupuWev00VKZce79p8GdumaGF1eL0AnQ9Xb19on4CodJ76M9GOSyweF166j94XYp1gm1SV4e0lJP6mnw04VJO6uzw2UXLtk5zoSyfYbhntS3fk/b/xOtSVOjbJS0t045cWjbHJV/VRQuwuEuV7dktLXCPb+UK0r6nvC7FY/T90Ay5YnEPAPWweEPqPujb3r59e0zoaXZLOTNtw3e6D7EacbXlFqSuZ70uxTr9faYN1exyBamL3r6qI/hVWajdzJVo5iGfS7kGuEoTCEndz0kLSa9LAsB2+SXTW+OzuX3lgm1musLSstcl8c5y3gzz7O/xuiQb6HzazI3Oc2W5ajJ3pP4feV2KdZzRY/NN/FYv56XFZam/1+uS2IfgV2XBNmnvU9K9Ra9L4o1C0QzzbIjK2vWM1LFPuv+11yUBYKv8kunt66vSnOIaOrBfms827+IS9xal5/zXAWS0dZrP0OJ3XpfEDvPfSt0HzP+rDx142lxEb9ZOhIWs9NwzXpfCTgS/GujvMWO0mzH83VsylbVhuud7ooQ/ALVRHvp8OsSzXLBN2tsv3VrwuiT1d2vBnLe7/Xzu2hUxw4UXb3pdksaWuSO1BKT+Oq8kvQXBNmnv7uZsR96aN21IXw65tgDBr0b6+8y9WOazXpekPgpFc+LsbsTKWh7+mPMHoBoyt0uh7wdmQakG0d9nFua6t+R1Sern3qK5fcO+PV6XZBN2HTa3C8rc87okjSmfMXP79v5Hr0vyRP29Ul9Pc12IubcotbRK+xuhLjaoltXVVRacr5F8Qbo/Jy0sSft77V0m2wl9fbsa5MT5KIspKXvL3MyVm7ED2I5i3swdbg1Je37sdWm2JV+Q7s9LC4v2n7vuLZnQF/HPiv5PVshK6b9Jme+k3jD3Hd2szF2zqNvTP/XtEM+18gVpbl6apy6iSgh+dXD7njSflrpDdi2VXSiaMehLOemZfdIuG/62Ys6cTJdvm5s1dzTOlXoAHirmTaMyd1/qfd5cQGpwixnp5m37zl2SWThjPiPt6WvgC5b3v5QyN6TOPVKH/4cSe6aYl5a+l9q6G6KnbyOLGenufak9QF3EzhD86iRfkG7flTLL5iQaCjbuPVoKRWlpxaz+1vC9fI9SzEnppJRfkILdUlsXIRBApWLeBL3cvKQWM2S8J+J1qaqq/NzVEZS6Qg1+7sqZRmZvtxlK1zDz0R+lkJXu/k+pkJFCfeY+f9zrr1Q358ywTrWaIde7nvO6VDuSL0hzC6Yjwaa6GGyTnt1nQV1sEAS/OnMqbiYrZXOm275Ruu6XV0plbSkFPj/fp69aijlpZa70VTbQvjUoqcWzYgHwwqqkFim/KAXazfed+6TOZ8wtYiyWL0hLGdPobLRzV6FovtoCZs6UleeuQlZaTErLd6WVefP5DLSbj2wzebAiFVdMfew6IPUcbphhnZtlRV1sk/q6Le048DmCn8fyBfPlHpydLFH+c/k71PKE59Zw266OJ/01TaKYk4pNfLMroJkFOqwPeZuRL91gOu+sh1Xn89FWtm3Kc1cha3oBW1rMYjCS+V56/M/lTcJabvuo5+5027Yu64Lek7h10bnp+2bqzdqft1LndrAtvXreI/gBAAAAgOW4nQMAAAAAWI7gBwAAAACWI/gBAAAAgOUIfgAAAABgOYIfAAAAAFiO4AcAAAAAliP4oWlcvXrV6yIAAAAfuX79utLptNfFAOqC4AcAAICmROhDMyH4AQAAAIDlCH4AAAAAYDmCH5pGT0+P10UAAAAAPEHwQ9Po7e1lLD8AAHDduHGDC8NoGgQ/NI2enh4tLCx4XQwAAOAThD40E4IfmkZPT49u3LjhdTEAAIAPXL16VQcOHPC6GEDdEPzQVF544QXu5wcAQJNLp9Pq6enRwYMHvS4KUDctq6urq14XAqindDqtq1ev6uWXX2aIBwAATca5APzyyy97XBKgvgh+aFrXr193h34SAAEAsFc6nXZ7+V544QXO+2hKBD8AQNNxGoAAADQL5vgBAJrOV1995XURAACoK4IfAAAAAFiO4AcAAAAAliP4AQAAAIDlCH4AAAAAYDmCHwAAAABYjuAHAAAAAJYj+AEAAACA5Qh+AAAAAGA5gh8AoOkcOHDA6yIAAFBXLaurq6teFwIAAAAAUDv0+AEAAACA5Qh+AAAAAGA5gh8AAAAAWI7gBwAAAACWI/gBAKyRSCSUTCbd76u9z7UmJyer8hoAANQawQ8A0BASiYSGhoY0Ojqq0dHRDZ+TTCbdoDY9PV2V152enn5k8JuamqrKawAAUGttXhcAAIDNGh4e1sjIiCQT8pLJpGKxmCYnJ93HHyWRSGh6elqRSESxWExTU1MaHh5WNBpVMpnU1NSUIpGIux/n+clkUoODg5Ie9vDFYjFFo9Ea/qUAAFQXPX4AgIYxNTWleDy+rlfvcb1ykgmJ8Xhcw8PDmp6edkOf02N3+PBhDQ4OKpVKaXJyUolEwn2+I5FIKJVKuaERAIBGQvADADSMWCym4eFhxWKxbW3r9NI5PX2JREKJREIjIyPuvp0Q6TzH2cYJe4Q+AEAjIvgBABpGJBJxg1j5UMvH9fY9iTPUU3q4IEwsFls3R3BwcFCRSETj4+MaHx/f9usBAOAFgh8AoGGUh71oNKpIJKKhoaGKMJhKpSStD4ORSGTdPpxewOHhYY2OjiqVSmliYsLt6RsaGnK3icViSqVSisfjFXP9dhI6AQCol5bV1dVVrwsBAAAAAKgdevwAAAAAwHIEPwAAAACwHMEPAAAAACxH8AMAAAAAyxH8AAAAAMByBD8AAAAAsBzBDwAAAAAsR/ADAAAAAMsR/AAAAADAcv8fFbm+ZcxtsToAAAAASUVORK5CYII=)"
      ],
      "metadata": {
        "id": "361QFpyklL-n"
      }
    },
    {
      "cell_type": "markdown",
      "source": [
        "##Tokenization\n",
        "Reduce the amount of words require to train a machine learning model. We can do basic tokenization in python using `split` function on a string. Also using `regex`."
      ],
      "metadata": {
        "id": "I4BQOTOonSR_"
      }
    },
    {
      "cell_type": "markdown",
      "source": [
        "## Stemming and Lemmatization\n",
        "\n",
        "They both convert the words to their base form. \n",
        "Eg: Words like `Playing, played, plays` gets converted to `play`.\n",
        "\n",
        "In Lemmatization, the base form will make sense. Like a readable word. In Stemming it may or maynot make sense.\n",
        "\n",
        "Lemmatization requires a lot of work from linguists as the work has to make sense."
      ],
      "metadata": {
        "id": "jN-6y5MvocKP"
      }
    },
    {
      "cell_type": "markdown",
      "source": [
        "## Byte pair encoding"
      ],
      "metadata": {
        "id": "cFPbd_-Pun3p"
      }
    }
  ]
}